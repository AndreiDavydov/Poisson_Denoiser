{
 "cells": [
  {
   "cell_type": "code",
   "execution_count": 1,
   "metadata": {},
   "outputs": [],
   "source": [
    "from PoisDenoiser.nnLayers.functional import PoisProx\n",
    "import numpy as np\n",
    "import torch as th\n",
    "from torch.autograd import Variable\n",
    "from pydl.nnLayers.functional import functional"
   ]
  },
  {
   "cell_type": "code",
   "execution_count": 2,
   "metadata": {},
   "outputs": [],
   "source": [
    "poisProx = PoisProx.apply"
   ]
  },
  {
   "cell_type": "code",
   "execution_count": 9,
   "metadata": {},
   "outputs": [
    {
     "ename": "TypeError",
     "evalue": "forward() missing 3 required positional arguments: 'input', 'noisy', and 'a_cond'",
     "output_type": "error",
     "traceback": [
      "\u001b[0;31m---------------------------------------------------------------------------\u001b[0m",
      "\u001b[0;31mTypeError\u001b[0m                                 Traceback (most recent call last)",
      "\u001b[0;32m<ipython-input-9-c43e34e6d405>\u001b[0m in \u001b[0;36m<module>\u001b[0;34m()\u001b[0m\n\u001b[0;32m----> 1\u001b[0;31m \u001b[0mf\u001b[0m\u001b[0;34m(\u001b[0m\u001b[0;34m)\u001b[0m\u001b[0;34m\u001b[0m\u001b[0m\n\u001b[0m",
      "\u001b[0;31mTypeError\u001b[0m: forward() missing 3 required positional arguments: 'input', 'noisy', and 'a_cond'"
     ]
    }
   ],
   "source": [
    "PoisProx()"
   ]
  },
  {
   "cell_type": "code",
   "execution_count": 3,
   "metadata": {},
   "outputs": [],
   "source": [
    "def l2Prox(epsilon=1e-4,dtype='torch.DoubleTensor',GPU=False):\n",
    "    \n",
    "    l2ProxF = functional.L2Prox.apply\n",
    "    \n",
    "    x = th.randn(4,3,40,40).type(dtype)\n",
    "    x -= x.view(x.size(0),-1).min().view(-1,1,1,1)\n",
    "    x /= x.view(x.size(0),-1).max().view(-1,1,1,1) \n",
    "    x = x*255\n",
    "    z = th.randn(4,3,40,40).type(dtype)\n",
    "    z -= z.view(z.size(0),-1).min().view(-1,1,1,1)\n",
    "    z /= z.view(z.size(0),-1).max().view(-1,1,1,1) \n",
    "    z = z*255    \n",
    "    alpha  = th.Tensor(np.random.randint(0,3,(1,))).type(dtype)\n",
    "    stdn = th.Tensor(np.random.randint(5,20,(4,1))).type(dtype)\n",
    "    \n",
    "    if GPU and th.cuda.is_available():\n",
    "        x = x.cuda()\n",
    "        z = z.cuda()\n",
    "        alpha = alpha.cuda()\n",
    "        stdn = stdn.cuda()\n",
    "    \n",
    "    sz_x = x.size()\n",
    "    grad_output = th.randn_like(x)\n",
    "    x_numgrad = th.zeros_like(x).view(-1)\n",
    "    perturb = x_numgrad.clone() \n",
    "    cost = lambda input: cost_l2Prox(input,z,alpha,stdn,grad_output)\n",
    "        \n",
    "    for k in range(0,x.numel()):\n",
    "        perturb[k]  = epsilon\n",
    "        loss1 = cost(x.view(-1).add(perturb).view(sz_x))\n",
    "        loss2 = cost(x.view(-1).add(-perturb).view(sz_x))\n",
    "        x_numgrad[k] = (loss1-loss2)/(2*perturb[k])\n",
    "        perturb[k] = 0\n",
    "\n",
    "    x_numgrad = x_numgrad.view(sz_x)\n",
    "    \n",
    "    sz_alpha = alpha.size()\n",
    "    alpha_numgrad = th.zeros_like(alpha).view(-1)\n",
    "    perturb = alpha_numgrad.clone()\n",
    "    cost = lambda input : cost_l2Prox(x,z,input,stdn,grad_output)\n",
    "    \n",
    "    for k in range(0,alpha.numel()):\n",
    "        perturb[k]  = epsilon\n",
    "        loss1 = cost(alpha.view(-1).add(perturb).view(sz_alpha))\n",
    "        loss2 = cost(alpha.view(-1).add(-perturb).view(sz_alpha))\n",
    "        alpha_numgrad[k] = (loss1-loss2)/(2*perturb[k])\n",
    "        perturb[k] = 0    \n",
    "    \n",
    "    alpha_numgrad = alpha_numgrad.view(sz_alpha)\n",
    "    \n",
    "    x_var = Variable(x,requires_grad = True)\n",
    "    alpha_var = Variable(alpha,requires_grad = True)\n",
    "    \n",
    "    y = l2ProxF(x_var,z,alpha_var,stdn)\n",
    "    y.backward(grad_output)\n",
    "    \n",
    "    err_x = th.norm(x_var.grad.data.view(-1) - x_numgrad.view(-1))/\\\n",
    "            th.norm(x_var.grad.data.view(-1) + x_numgrad.view(-1))\n",
    "            \n",
    "    err_a = th.norm(alpha_var.grad.data.view(-1) - alpha_numgrad.view(-1))/\\\n",
    "            th.norm(alpha_var.grad.data.view(-1) + alpha_numgrad.view(-1))            \n",
    "    \n",
    "    \n",
    "    return err_x, x_var.grad.data, x_numgrad, err_a, alpha_var.grad.data, alpha_numgrad\n"
   ]
  },
  {
   "cell_type": "code",
   "execution_count": 4,
   "metadata": {},
   "outputs": [
    {
     "ename": "NameError",
     "evalue": "name 'cost_l2Prox' is not defined",
     "output_type": "error",
     "traceback": [
      "\u001b[0;31m---------------------------------------------------------------------------\u001b[0m",
      "\u001b[0;31mNameError\u001b[0m                                 Traceback (most recent call last)",
      "\u001b[0;32m<ipython-input-4-d3e78e77882b>\u001b[0m in \u001b[0;36m<module>\u001b[0;34m()\u001b[0m\n\u001b[0;32m----> 1\u001b[0;31m \u001b[0mres\u001b[0m \u001b[0;34m=\u001b[0m \u001b[0ml2Prox\u001b[0m\u001b[0;34m(\u001b[0m\u001b[0;34m)\u001b[0m\u001b[0;34m\u001b[0m\u001b[0m\n\u001b[0m",
      "\u001b[0;32m<ipython-input-3-8ce0e0c9765e>\u001b[0m in \u001b[0;36ml2Prox\u001b[0;34m(epsilon, dtype, GPU)\u001b[0m\n\u001b[1;32m     28\u001b[0m     \u001b[0;32mfor\u001b[0m \u001b[0mk\u001b[0m \u001b[0;32min\u001b[0m \u001b[0mrange\u001b[0m\u001b[0;34m(\u001b[0m\u001b[0;36m0\u001b[0m\u001b[0;34m,\u001b[0m\u001b[0mx\u001b[0m\u001b[0;34m.\u001b[0m\u001b[0mnumel\u001b[0m\u001b[0;34m(\u001b[0m\u001b[0;34m)\u001b[0m\u001b[0;34m)\u001b[0m\u001b[0;34m:\u001b[0m\u001b[0;34m\u001b[0m\u001b[0m\n\u001b[1;32m     29\u001b[0m         \u001b[0mperturb\u001b[0m\u001b[0;34m[\u001b[0m\u001b[0mk\u001b[0m\u001b[0;34m]\u001b[0m  \u001b[0;34m=\u001b[0m \u001b[0mepsilon\u001b[0m\u001b[0;34m\u001b[0m\u001b[0m\n\u001b[0;32m---> 30\u001b[0;31m         \u001b[0mloss1\u001b[0m \u001b[0;34m=\u001b[0m \u001b[0mcost\u001b[0m\u001b[0;34m(\u001b[0m\u001b[0mx\u001b[0m\u001b[0;34m.\u001b[0m\u001b[0mview\u001b[0m\u001b[0;34m(\u001b[0m\u001b[0;34m-\u001b[0m\u001b[0;36m1\u001b[0m\u001b[0;34m)\u001b[0m\u001b[0;34m.\u001b[0m\u001b[0madd\u001b[0m\u001b[0;34m(\u001b[0m\u001b[0mperturb\u001b[0m\u001b[0;34m)\u001b[0m\u001b[0;34m.\u001b[0m\u001b[0mview\u001b[0m\u001b[0;34m(\u001b[0m\u001b[0msz_x\u001b[0m\u001b[0;34m)\u001b[0m\u001b[0;34m)\u001b[0m\u001b[0;34m\u001b[0m\u001b[0m\n\u001b[0m\u001b[1;32m     31\u001b[0m         \u001b[0mloss2\u001b[0m \u001b[0;34m=\u001b[0m \u001b[0mcost\u001b[0m\u001b[0;34m(\u001b[0m\u001b[0mx\u001b[0m\u001b[0;34m.\u001b[0m\u001b[0mview\u001b[0m\u001b[0;34m(\u001b[0m\u001b[0;34m-\u001b[0m\u001b[0;36m1\u001b[0m\u001b[0;34m)\u001b[0m\u001b[0;34m.\u001b[0m\u001b[0madd\u001b[0m\u001b[0;34m(\u001b[0m\u001b[0;34m-\u001b[0m\u001b[0mperturb\u001b[0m\u001b[0;34m)\u001b[0m\u001b[0;34m.\u001b[0m\u001b[0mview\u001b[0m\u001b[0;34m(\u001b[0m\u001b[0msz_x\u001b[0m\u001b[0;34m)\u001b[0m\u001b[0;34m)\u001b[0m\u001b[0;34m\u001b[0m\u001b[0m\n\u001b[1;32m     32\u001b[0m         \u001b[0mx_numgrad\u001b[0m\u001b[0;34m[\u001b[0m\u001b[0mk\u001b[0m\u001b[0;34m]\u001b[0m \u001b[0;34m=\u001b[0m \u001b[0;34m(\u001b[0m\u001b[0mloss1\u001b[0m\u001b[0;34m-\u001b[0m\u001b[0mloss2\u001b[0m\u001b[0;34m)\u001b[0m\u001b[0;34m/\u001b[0m\u001b[0;34m(\u001b[0m\u001b[0;36m2\u001b[0m\u001b[0;34m*\u001b[0m\u001b[0mperturb\u001b[0m\u001b[0;34m[\u001b[0m\u001b[0mk\u001b[0m\u001b[0;34m]\u001b[0m\u001b[0;34m)\u001b[0m\u001b[0;34m\u001b[0m\u001b[0m\n",
      "\u001b[0;32m<ipython-input-3-8ce0e0c9765e>\u001b[0m in \u001b[0;36m<lambda>\u001b[0;34m(input)\u001b[0m\n\u001b[1;32m     24\u001b[0m     \u001b[0mx_numgrad\u001b[0m \u001b[0;34m=\u001b[0m \u001b[0mth\u001b[0m\u001b[0;34m.\u001b[0m\u001b[0mzeros_like\u001b[0m\u001b[0;34m(\u001b[0m\u001b[0mx\u001b[0m\u001b[0;34m)\u001b[0m\u001b[0;34m.\u001b[0m\u001b[0mview\u001b[0m\u001b[0;34m(\u001b[0m\u001b[0;34m-\u001b[0m\u001b[0;36m1\u001b[0m\u001b[0;34m)\u001b[0m\u001b[0;34m\u001b[0m\u001b[0m\n\u001b[1;32m     25\u001b[0m     \u001b[0mperturb\u001b[0m \u001b[0;34m=\u001b[0m \u001b[0mx_numgrad\u001b[0m\u001b[0;34m.\u001b[0m\u001b[0mclone\u001b[0m\u001b[0;34m(\u001b[0m\u001b[0;34m)\u001b[0m\u001b[0;34m\u001b[0m\u001b[0m\n\u001b[0;32m---> 26\u001b[0;31m     \u001b[0mcost\u001b[0m \u001b[0;34m=\u001b[0m \u001b[0;32mlambda\u001b[0m \u001b[0minput\u001b[0m\u001b[0;34m:\u001b[0m \u001b[0mcost_l2Prox\u001b[0m\u001b[0;34m(\u001b[0m\u001b[0minput\u001b[0m\u001b[0;34m,\u001b[0m\u001b[0mz\u001b[0m\u001b[0;34m,\u001b[0m\u001b[0malpha\u001b[0m\u001b[0;34m,\u001b[0m\u001b[0mstdn\u001b[0m\u001b[0;34m,\u001b[0m\u001b[0mgrad_output\u001b[0m\u001b[0;34m)\u001b[0m\u001b[0;34m\u001b[0m\u001b[0m\n\u001b[0m\u001b[1;32m     27\u001b[0m \u001b[0;34m\u001b[0m\u001b[0m\n\u001b[1;32m     28\u001b[0m     \u001b[0;32mfor\u001b[0m \u001b[0mk\u001b[0m \u001b[0;32min\u001b[0m \u001b[0mrange\u001b[0m\u001b[0;34m(\u001b[0m\u001b[0;36m0\u001b[0m\u001b[0;34m,\u001b[0m\u001b[0mx\u001b[0m\u001b[0;34m.\u001b[0m\u001b[0mnumel\u001b[0m\u001b[0;34m(\u001b[0m\u001b[0;34m)\u001b[0m\u001b[0;34m)\u001b[0m\u001b[0;34m:\u001b[0m\u001b[0;34m\u001b[0m\u001b[0m\n",
      "\u001b[0;31mNameError\u001b[0m: name 'cost_l2Prox' is not defined"
     ]
    }
   ],
   "source": [
    "res = l2Prox()"
   ]
  },
  {
   "cell_type": "code",
   "execution_count": 13,
   "metadata": {},
   "outputs": [
    {
     "data": {
      "text/plain": [
       "6"
      ]
     },
     "execution_count": 13,
     "metadata": {},
     "output_type": "execute_result"
    }
   ],
   "source": [
    "len(res)"
   ]
  },
  {
   "cell_type": "code",
   "execution_count": null,
   "metadata": {},
   "outputs": [],
   "source": []
  },
  {
   "cell_type": "code",
   "execution_count": null,
   "metadata": {},
   "outputs": [],
   "source": []
  },
  {
   "cell_type": "code",
   "execution_count": null,
   "metadata": {},
   "outputs": [],
   "source": []
  },
  {
   "cell_type": "code",
   "execution_count": null,
   "metadata": {},
   "outputs": [],
   "source": []
  }
 ],
 "metadata": {
  "kernelspec": {
   "display_name": "Python 3",
   "language": "python",
   "name": "python3"
  },
  "language_info": {
   "codemirror_mode": {
    "name": "ipython",
    "version": 3
   },
   "file_extension": ".py",
   "mimetype": "text/x-python",
   "name": "python",
   "nbconvert_exporter": "python",
   "pygments_lexer": "ipython3",
   "version": "3.6.4"
  }
 },
 "nbformat": 4,
 "nbformat_minor": 2
}
