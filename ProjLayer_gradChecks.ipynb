{
 "cells": [
  {
   "cell_type": "code",
   "execution_count": 3,
   "metadata": {},
   "outputs": [
    {
     "name": "stdout",
     "output_type": "stream",
     "text": [
      "The autoreload extension is already loaded. To reload it, use:\n",
      "  %reload_ext autoreload\n"
     ]
    }
   ],
   "source": [
    "from PoisDenoiser.nnLayers.gradChecker import poisNet_gradCheck\n",
    "# from PoisDenoiser.nnLayers.functional import poisProx, alphaFunc, \\\n",
    "#                                                 projFunc,\\\n",
    "#                                                 condFunc\n",
    "\n",
    "from PoisDenoiser.networks.PoisNet.net import PoisNet\n",
    "\n",
    "import torch as th\n",
    "import numpy as np\n",
    "from tqdm import tqdm\n",
    "\n",
    "import matplotlib.pyplot as plt\n",
    "%matplotlib inline\n",
    "\n",
    "%load_ext autoreload\n",
    "%autoreload 2"
   ]
  },
  {
   "cell_type": "code",
   "execution_count": 8,
   "metadata": {
    "scrolled": true
   },
   "outputs": [
    {
     "name": "stderr",
     "output_type": "stream",
     "text": [
      "\n",
      "\n",
      "  0%|          | 0/5 [00:00<?, ?it/s]\u001b[A\u001b[A"
     ]
    },
    {
     "name": "stdout",
     "output_type": "stream",
     "text": [
      "k == 10.000\n"
     ]
    },
    {
     "name": "stderr",
     "output_type": "stream",
     "text": [
      "\n",
      "\n",
      " 20%|██        | 1/5 [00:37<02:30, 37.75s/it]\u001b[A\u001b[A\n",
      "\n",
      " 40%|████      | 2/5 [01:15<01:53, 37.86s/it]\u001b[A\u001b[A\n",
      "\n",
      " 60%|██████    | 3/5 [01:56<01:17, 38.56s/it]\u001b[A\u001b[A\n",
      "\n",
      " 80%|████████  | 4/5 [02:34<00:38, 38.56s/it]\u001b[A\u001b[A\n",
      "\n",
      "100%|██████████| 5/5 [03:15<00:00, 39.25s/it]\u001b[A\u001b[A\n",
      "\n",
      "\u001b[A\u001b[A"
     ]
    }
   ],
   "source": [
    "\n",
    "d_x = {}\n",
    "# d_alpha = {}\n",
    "num = 5\n",
    "k_arr = np.logspace(-3, 1, num=5)\n",
    "for k in k_arr:\n",
    "    d_x[k] = []\n",
    "#     d_alpha[k] = []\n",
    "\n",
    "for k in k_arr:\n",
    "    print('k == {:.3f}'.format(k))\n",
    "    for i in tqdm(range(num)):\n",
    "        res = poisNet_gradCheck(noise_param=k)\n",
    "        d_x[k].append(float(res[0]))\n",
    "#         d_alpha[k].append(float(res[3]))"
   ]
  },
  {
   "cell_type": "code",
   "execution_count": 10,
   "metadata": {
    "scrolled": false
   },
   "outputs": [
    {
     "data": {
      "image/png": "[encoded data removed]",
      "text/plain": [
       "<Figure size 720x360 with 2 Axes>"
      ]
     },
     "metadata": {
      "needs_background": "light"
     },
     "output_type": "display_data"
    }
   ],
   "source": [
    "fig, ax = plt.subplots(1,2, figsize=(10,5))\n",
    "for k in k_arr:\n",
    "    ax[0].semilogy(d_x[k], label='k={:.3f}'.format(k))\n",
    "#     ax[1].semilogy(d_alpha[k], label='k={:.3f}'.format(k))\n",
    "    \n",
    "#     plt.legend()"
   ]
  },
  {
   "cell_type": "code",
   "execution_count": 80,
   "metadata": {},
   "outputs": [
    {
     "name": "stdout",
     "output_type": "stream",
     "text": [
      "5.18934e-10 1.57071e-09 | 3.12773e-11 2.58951e-10\n",
      "2.17119e-10 8.77341e-10 | 3.54163e-11 4.23996e-10\n",
      "4.20337e-11 4.76544e-10 | 7.61598e-11 7.04131e-10\n",
      "1.07833e-10 4.49205e-10 | 2.70491e-10 2.64554e-08\n",
      "1.16686e-10 5.13618e-08 | 2.99038e-10 1.90374e-07\n"
     ]
    }
   ],
   "source": [
    "for k in k_arr:\n",
    "    print('{:.5e} {:.5e} | {:.5e} {:.5e}'\\\n",
    "          .format(min(d_x[k]), max(d_x[k]), min(d_alpha[k]), max(d_alpha[k])))"
   ]
  },
  {
   "cell_type": "code",
   "execution_count": 90,
   "metadata": {
    "scrolled": true
   },
   "outputs": [
    {
     "data": {
      "text/plain": [
       "tensor([[[[1.0000, 1.0000],\n",
       "          [1.0000, 1.0000]]],\n",
       "\n",
       "\n",
       "        [[[1.0000, 1.0000],\n",
       "          [1.0000, 1.0000]]],\n",
       "\n",
       "\n",
       "        [[[0.4938, 0.4614],\n",
       "          [0.5027, 0.4803]]],\n",
       "\n",
       "\n",
       "        [[[0.6302, 0.7902],\n",
       "          [0.5184, 0.6204]]]], dtype=torch.float64)"
      ]
     },
     "execution_count": 90,
     "metadata": {},
     "output_type": "execute_result"
    }
   ],
   "source": [
    "th.manual_seed(1234)\n",
    "\n",
    "x = th.rand((4, 1, 2,2)).double()\n",
    "z = th.rand((4, 1, 2,2)).double()\n",
    "z = th.distributions.Poisson(z/0.1).sample()\n",
    "x[:2] = z[:2].clone() \n",
    "\n",
    "alpha = th.rand((x.size(0), 1,1,1)).double()\n",
    "alpha[:2] = 0\n",
    "\n",
    "x.requires_grad = True\n",
    "\n",
    "proj = projFunc(x,z, alpha)\n",
    "proj.backward(th.ones_like(proj).type_as(x))\n",
    "\n",
    "x.grad"
   ]
  },
  {
   "cell_type": "code",
   "execution_count": null,
   "metadata": {},
   "outputs": [],
   "source": []
  },
  {
   "cell_type": "code",
   "execution_count": null,
   "metadata": {},
   "outputs": [],
   "source": []
  },
  {
   "cell_type": "code",
   "execution_count": null,
   "metadata": {},
   "outputs": [],
   "source": []
  },
  {
   "cell_type": "code",
   "execution_count": null,
   "metadata": {},
   "outputs": [],
   "source": []
  }
 ],
 "metadata": {
  "kernelspec": {
   "display_name": "Python 3",
   "language": "python",
   "name": "python3"
  },
  "language_info": {
   "codemirror_mode": {
    "name": "ipython",
    "version": 3
   },
   "file_extension": ".py",
   "mimetype": "text/x-python",
   "name": "python",
   "nbconvert_exporter": "python",
   "pygments_lexer": "ipython3",
   "version": "3.6.6"
  }
 },
 "nbformat": 4,
 "nbformat_minor": 2
}
